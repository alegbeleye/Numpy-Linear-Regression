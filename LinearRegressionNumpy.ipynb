{
  "nbformat": 4,
  "nbformat_minor": 0,
  "metadata": {
    "colab": {
      "provenance": [],
      "authorship_tag": "ABX9TyM62wBHMiCiiGl7OknYJsry",
      "include_colab_link": true
    },
    "kernelspec": {
      "name": "python3",
      "display_name": "Python 3"
    },
    "language_info": {
      "name": "python"
    }
  },
  "cells": [
    {
      "cell_type": "markdown",
      "metadata": {
        "id": "view-in-github",
        "colab_type": "text"
      },
      "source": [
        "<a href=\"https://colab.research.google.com/github/alegbeleye/Numpy-Linear-Regression/blob/main/LinearRegressionNumpy.ipynb\" target=\"_parent\"><img src=\"https://colab.research.google.com/assets/colab-badge.svg\" alt=\"Open In Colab\"/></a>"
      ]
    },
    {
      "cell_type": "code",
      "execution_count": 1,
      "metadata": {
        "id": "f30dfakJkTzz"
      },
      "outputs": [],
      "source": [
        "import numpy as np\n",
        "import pandas as pd\n",
        "import matplotlib.pyplot as plt"
      ]
    },
    {
      "cell_type": "code",
      "source": [
        "SEED = 1234\n",
        "NUM_SAMPLES = 50"
      ],
      "metadata": {
        "id": "7sZnBueek14d"
      },
      "execution_count": 2,
      "outputs": []
    },
    {
      "cell_type": "code",
      "source": [
        "np.random.seed(SEED)"
      ],
      "metadata": {
        "id": "kIsVjtInlCBT"
      },
      "execution_count": 3,
      "outputs": []
    },
    {
      "cell_type": "code",
      "source": [
        "#function to generate sythetic data\n",
        "def generate_data(num_samples):\n",
        "  \"\"\"Generate dummy data for linear regression\"\"\"\n",
        "  X = np.array(range(num_samples))\n",
        "  random_noise = np.random.uniform(-10,20, size=num_samples)\n",
        "  y= 3.5 * X + random_noise #add some noise\n",
        "  return X, y"
      ],
      "metadata": {
        "id": "vC0Zaw9blLZJ"
      },
      "execution_count": 4,
      "outputs": []
    },
    {
      "cell_type": "markdown",
      "source": [
        "##### Try to convert it to a table with x and y columns"
      ],
      "metadata": {
        "id": "hVSnEp_Vmds_"
      }
    },
    {
      "cell_type": "code",
      "source": [
        "#Generate random linear data\n",
        "X, y = generate_data(num_samples=NUM_SAMPLES)\n",
        "X, y"
      ],
      "metadata": {
        "colab": {
          "base_uri": "https://localhost:8080/"
        },
        "id": "uebnhJislvxg",
        "outputId": "e4f91698-8642-48c5-9a4c-6a95490e3ed3"
      },
      "execution_count": 5,
      "outputs": [
        {
          "output_type": "execute_result",
          "data": {
            "text/plain": [
              "(array([ 0,  1,  2,  3,  4,  5,  6,  7,  8,  9, 10, 11, 12, 13, 14, 15, 16,\n",
              "        17, 18, 19, 20, 21, 22, 23, 24, 25, 26, 27, 28, 29, 30, 31, 32, 33,\n",
              "        34, 35, 36, 37, 38, 39, 40, 41, 42, 43, 44, 45, 46, 47, 48, 49]),\n",
              " array([ -4.25441649,  12.16326313,  10.13183217,  24.06075751,\n",
              "         27.39927424,  15.67777816,  19.29392765,  38.55616533,\n",
              "         46.74418061,  47.77797904,  35.7345181 ,  43.52985377,\n",
              "         52.50388806,  56.88106081,  50.10752264,  59.33588558,\n",
              "         61.09249496,  49.91305349,  76.18479865,  82.97923572,\n",
              "         70.94657952,  81.96188535,  69.26143725,  81.56472018,\n",
              "        101.99420306,  97.0413443 ,  92.91607733, 108.16190429,\n",
              "         97.50508367, 108.54295958, 121.07382169, 111.58520272,\n",
              "        126.06442926, 109.81300474, 130.12782913, 133.63743925,\n",
              "        122.56376317, 147.24602886, 136.26422266, 153.77947877,\n",
              "        131.79427668, 139.02861251, 138.42065836, 160.74642831,\n",
              "        161.8387434 , 163.49930489, 152.29972188, 171.3429924 ,\n",
              "        167.89005337, 176.58900499]))"
            ]
          },
          "metadata": {},
          "execution_count": 5
        }
      ]
    },
    {
      "cell_type": "code",
      "source": [
        "np.vstack([X, y]).T[:5]"
      ],
      "metadata": {
        "colab": {
          "base_uri": "https://localhost:8080/"
        },
        "id": "X05v9XHkl_R0",
        "outputId": "4dec1593-27b0-4919-e5d6-00c10bd1b585"
      },
      "execution_count": 6,
      "outputs": [
        {
          "output_type": "execute_result",
          "data": {
            "text/plain": [
              "array([[ 0.        , -4.25441649],\n",
              "       [ 1.        , 12.16326313],\n",
              "       [ 2.        , 10.13183217],\n",
              "       [ 3.        , 24.06075751],\n",
              "       [ 4.        , 27.39927424]])"
            ]
          },
          "metadata": {},
          "execution_count": 6
        }
      ]
    },
    {
      "cell_type": "code",
      "source": [
        "data = np.vstack([X, y]).T\n",
        "print(data[:5])"
      ],
      "metadata": {
        "colab": {
          "base_uri": "https://localhost:8080/"
        },
        "id": "Y2NxC98TmK4-",
        "outputId": "edd0ceca-0b4f-49c4-e22b-37d6b0263008"
      },
      "execution_count": 7,
      "outputs": [
        {
          "output_type": "stream",
          "name": "stdout",
          "text": [
            "[[ 0.         -4.25441649]\n",
            " [ 1.         12.16326313]\n",
            " [ 2.         10.13183217]\n",
            " [ 3.         24.06075751]\n",
            " [ 4.         27.39927424]]\n"
          ]
        }
      ]
    },
    {
      "cell_type": "code",
      "source": [
        "df = pd.DataFrame(data, columns=[\"X\", \"y\"])\n",
        "df.head()"
      ],
      "metadata": {
        "colab": {
          "base_uri": "https://localhost:8080/",
          "height": 206
        },
        "id": "PJ7fRk_EmpVI",
        "outputId": "860a045f-ebba-4ad1-f3e5-12af611c4f06"
      },
      "execution_count": 8,
      "outputs": [
        {
          "output_type": "execute_result",
          "data": {
            "text/plain": [
              "     X          y\n",
              "0  0.0  -4.254416\n",
              "1  1.0  12.163263\n",
              "2  2.0  10.131832\n",
              "3  3.0  24.060758\n",
              "4  4.0  27.399274"
            ],
            "text/html": [
              "\n",
              "  <div id=\"df-63c8b1d7-e03a-41d5-8c3a-7379aff57b14\">\n",
              "    <div class=\"colab-df-container\">\n",
              "      <div>\n",
              "<style scoped>\n",
              "    .dataframe tbody tr th:only-of-type {\n",
              "        vertical-align: middle;\n",
              "    }\n",
              "\n",
              "    .dataframe tbody tr th {\n",
              "        vertical-align: top;\n",
              "    }\n",
              "\n",
              "    .dataframe thead th {\n",
              "        text-align: right;\n",
              "    }\n",
              "</style>\n",
              "<table border=\"1\" class=\"dataframe\">\n",
              "  <thead>\n",
              "    <tr style=\"text-align: right;\">\n",
              "      <th></th>\n",
              "      <th>X</th>\n",
              "      <th>y</th>\n",
              "    </tr>\n",
              "  </thead>\n",
              "  <tbody>\n",
              "    <tr>\n",
              "      <th>0</th>\n",
              "      <td>0.0</td>\n",
              "      <td>-4.254416</td>\n",
              "    </tr>\n",
              "    <tr>\n",
              "      <th>1</th>\n",
              "      <td>1.0</td>\n",
              "      <td>12.163263</td>\n",
              "    </tr>\n",
              "    <tr>\n",
              "      <th>2</th>\n",
              "      <td>2.0</td>\n",
              "      <td>10.131832</td>\n",
              "    </tr>\n",
              "    <tr>\n",
              "      <th>3</th>\n",
              "      <td>3.0</td>\n",
              "      <td>24.060758</td>\n",
              "    </tr>\n",
              "    <tr>\n",
              "      <th>4</th>\n",
              "      <td>4.0</td>\n",
              "      <td>27.399274</td>\n",
              "    </tr>\n",
              "  </tbody>\n",
              "</table>\n",
              "</div>\n",
              "      <button class=\"colab-df-convert\" onclick=\"convertToInteractive('df-63c8b1d7-e03a-41d5-8c3a-7379aff57b14')\"\n",
              "              title=\"Convert this dataframe to an interactive table.\"\n",
              "              style=\"display:none;\">\n",
              "        \n",
              "  <svg xmlns=\"http://www.w3.org/2000/svg\" height=\"24px\"viewBox=\"0 0 24 24\"\n",
              "       width=\"24px\">\n",
              "    <path d=\"M0 0h24v24H0V0z\" fill=\"none\"/>\n",
              "    <path d=\"M18.56 5.44l.94 2.06.94-2.06 2.06-.94-2.06-.94-.94-2.06-.94 2.06-2.06.94zm-11 1L8.5 8.5l.94-2.06 2.06-.94-2.06-.94L8.5 2.5l-.94 2.06-2.06.94zm10 10l.94 2.06.94-2.06 2.06-.94-2.06-.94-.94-2.06-.94 2.06-2.06.94z\"/><path d=\"M17.41 7.96l-1.37-1.37c-.4-.4-.92-.59-1.43-.59-.52 0-1.04.2-1.43.59L10.3 9.45l-7.72 7.72c-.78.78-.78 2.05 0 2.83L4 21.41c.39.39.9.59 1.41.59.51 0 1.02-.2 1.41-.59l7.78-7.78 2.81-2.81c.8-.78.8-2.07 0-2.86zM5.41 20L4 18.59l7.72-7.72 1.47 1.35L5.41 20z\"/>\n",
              "  </svg>\n",
              "      </button>\n",
              "      \n",
              "  <style>\n",
              "    .colab-df-container {\n",
              "      display:flex;\n",
              "      flex-wrap:wrap;\n",
              "      gap: 12px;\n",
              "    }\n",
              "\n",
              "    .colab-df-convert {\n",
              "      background-color: #E8F0FE;\n",
              "      border: none;\n",
              "      border-radius: 50%;\n",
              "      cursor: pointer;\n",
              "      display: none;\n",
              "      fill: #1967D2;\n",
              "      height: 32px;\n",
              "      padding: 0 0 0 0;\n",
              "      width: 32px;\n",
              "    }\n",
              "\n",
              "    .colab-df-convert:hover {\n",
              "      background-color: #E2EBFA;\n",
              "      box-shadow: 0px 1px 2px rgba(60, 64, 67, 0.3), 0px 1px 3px 1px rgba(60, 64, 67, 0.15);\n",
              "      fill: #174EA6;\n",
              "    }\n",
              "\n",
              "    [theme=dark] .colab-df-convert {\n",
              "      background-color: #3B4455;\n",
              "      fill: #D2E3FC;\n",
              "    }\n",
              "\n",
              "    [theme=dark] .colab-df-convert:hover {\n",
              "      background-color: #434B5C;\n",
              "      box-shadow: 0px 1px 3px 1px rgba(0, 0, 0, 0.15);\n",
              "      filter: drop-shadow(0px 1px 2px rgba(0, 0, 0, 0.3));\n",
              "      fill: #FFFFFF;\n",
              "    }\n",
              "  </style>\n",
              "\n",
              "      <script>\n",
              "        const buttonEl =\n",
              "          document.querySelector('#df-63c8b1d7-e03a-41d5-8c3a-7379aff57b14 button.colab-df-convert');\n",
              "        buttonEl.style.display =\n",
              "          google.colab.kernel.accessAllowed ? 'block' : 'none';\n",
              "\n",
              "        async function convertToInteractive(key) {\n",
              "          const element = document.querySelector('#df-63c8b1d7-e03a-41d5-8c3a-7379aff57b14');\n",
              "          const dataTable =\n",
              "            await google.colab.kernel.invokeFunction('convertToInteractive',\n",
              "                                                     [key], {});\n",
              "          if (!dataTable) return;\n",
              "\n",
              "          const docLinkHtml = 'Like what you see? Visit the ' +\n",
              "            '<a target=\"_blank\" href=https://colab.research.google.com/notebooks/data_table.ipynb>data table notebook</a>'\n",
              "            + ' to learn more about interactive tables.';\n",
              "          element.innerHTML = '';\n",
              "          dataTable['output_type'] = 'display_data';\n",
              "          await google.colab.output.renderOutput(dataTable, element);\n",
              "          const docLink = document.createElement('div');\n",
              "          docLink.innerHTML = docLinkHtml;\n",
              "          element.appendChild(docLink);\n",
              "        }\n",
              "      </script>\n",
              "    </div>\n",
              "  </div>\n",
              "  "
            ]
          },
          "metadata": {},
          "execution_count": 8
        }
      ]
    },
    {
      "cell_type": "code",
      "source": [
        "X = df[[\"X\"]].values\n",
        "y = df[[\"y\"]].values\n",
        "X,y"
      ],
      "metadata": {
        "colab": {
          "base_uri": "https://localhost:8080/"
        },
        "id": "FC_t2pWEmyT7",
        "outputId": "56a72b7a-b187-42ef-c1df-411036005f2d"
      },
      "execution_count": 9,
      "outputs": [
        {
          "output_type": "execute_result",
          "data": {
            "text/plain": [
              "(array([[ 0.],\n",
              "        [ 1.],\n",
              "        [ 2.],\n",
              "        [ 3.],\n",
              "        [ 4.],\n",
              "        [ 5.],\n",
              "        [ 6.],\n",
              "        [ 7.],\n",
              "        [ 8.],\n",
              "        [ 9.],\n",
              "        [10.],\n",
              "        [11.],\n",
              "        [12.],\n",
              "        [13.],\n",
              "        [14.],\n",
              "        [15.],\n",
              "        [16.],\n",
              "        [17.],\n",
              "        [18.],\n",
              "        [19.],\n",
              "        [20.],\n",
              "        [21.],\n",
              "        [22.],\n",
              "        [23.],\n",
              "        [24.],\n",
              "        [25.],\n",
              "        [26.],\n",
              "        [27.],\n",
              "        [28.],\n",
              "        [29.],\n",
              "        [30.],\n",
              "        [31.],\n",
              "        [32.],\n",
              "        [33.],\n",
              "        [34.],\n",
              "        [35.],\n",
              "        [36.],\n",
              "        [37.],\n",
              "        [38.],\n",
              "        [39.],\n",
              "        [40.],\n",
              "        [41.],\n",
              "        [42.],\n",
              "        [43.],\n",
              "        [44.],\n",
              "        [45.],\n",
              "        [46.],\n",
              "        [47.],\n",
              "        [48.],\n",
              "        [49.]]),\n",
              " array([[ -4.25441649],\n",
              "        [ 12.16326313],\n",
              "        [ 10.13183217],\n",
              "        [ 24.06075751],\n",
              "        [ 27.39927424],\n",
              "        [ 15.67777816],\n",
              "        [ 19.29392765],\n",
              "        [ 38.55616533],\n",
              "        [ 46.74418061],\n",
              "        [ 47.77797904],\n",
              "        [ 35.7345181 ],\n",
              "        [ 43.52985377],\n",
              "        [ 52.50388806],\n",
              "        [ 56.88106081],\n",
              "        [ 50.10752264],\n",
              "        [ 59.33588558],\n",
              "        [ 61.09249496],\n",
              "        [ 49.91305349],\n",
              "        [ 76.18479865],\n",
              "        [ 82.97923572],\n",
              "        [ 70.94657952],\n",
              "        [ 81.96188535],\n",
              "        [ 69.26143725],\n",
              "        [ 81.56472018],\n",
              "        [101.99420306],\n",
              "        [ 97.0413443 ],\n",
              "        [ 92.91607733],\n",
              "        [108.16190429],\n",
              "        [ 97.50508367],\n",
              "        [108.54295958],\n",
              "        [121.07382169],\n",
              "        [111.58520272],\n",
              "        [126.06442926],\n",
              "        [109.81300474],\n",
              "        [130.12782913],\n",
              "        [133.63743925],\n",
              "        [122.56376317],\n",
              "        [147.24602886],\n",
              "        [136.26422266],\n",
              "        [153.77947877],\n",
              "        [131.79427668],\n",
              "        [139.02861251],\n",
              "        [138.42065836],\n",
              "        [160.74642831],\n",
              "        [161.8387434 ],\n",
              "        [163.49930489],\n",
              "        [152.29972188],\n",
              "        [171.3429924 ],\n",
              "        [167.89005337],\n",
              "        [176.58900499]]))"
            ]
          },
          "metadata": {},
          "execution_count": 9
        }
      ]
    },
    {
      "cell_type": "code",
      "source": [
        "plt.title(\"Generate data\")\n",
        "plt.scatter(x=df[\"X\"], y=df[\"y\"])\n",
        "plt.show()"
      ],
      "metadata": {
        "colab": {
          "base_uri": "https://localhost:8080/",
          "height": 452
        },
        "id": "nuOqpffVnBmS",
        "outputId": "d47d1727-a2a8-4770-e14e-63a4d85d9e93"
      },
      "execution_count": 10,
      "outputs": [
        {
          "output_type": "display_data",
          "data": {
            "text/plain": [
              "<Figure size 640x480 with 1 Axes>"
            ],
            "image/png": "[encoded data removed]"
          },
          "metadata": {}
        }
      ]
    },
    {
      "cell_type": "markdown",
      "source": [
        "### Linear Regression with just Numpy"
      ],
      "metadata": {
        "id": "-H4Ld0UAnaC3"
      }
    },
    {
      "cell_type": "code",
      "source": [],
      "metadata": {
        "id": "ErhoDIBF1mTq"
      },
      "execution_count": 10,
      "outputs": []
    },
    {
      "cell_type": "markdown",
      "source": [
        "####Split Data"
      ],
      "metadata": {
        "id": "V0sltUCrxgjI"
      }
    },
    {
      "cell_type": "code",
      "source": [
        "TRAIN_SIZE = 0.7\n",
        "VAL_SIZE = 0.15\n",
        "TEST_SIZE = 0.15"
      ],
      "metadata": {
        "id": "qfekuIIYxnq_"
      },
      "execution_count": 11,
      "outputs": []
    },
    {
      "cell_type": "code",
      "source": [
        "#shuffle data\n",
        "indices = list(range(NUM_SAMPLES))\n",
        "np.random.shuffle(indices)\n",
        "X = X[indices]\n",
        "y = y[indices]"
      ],
      "metadata": {
        "id": "g9d3r0YNxwoD"
      },
      "execution_count": 12,
      "outputs": []
    },
    {
      "cell_type": "code",
      "source": [
        "# split indices\n",
        "train_start = 0\n",
        "train_end = int(0.7*NUM_SAMPLES)\n",
        "val_start = train_end\n",
        "val_end = int((TRAIN_SIZE+VAL_SIZE)*NUM_SAMPLES)\n",
        "test_start = val_end"
      ],
      "metadata": {
        "id": "2sJM8QcnzbCO"
      },
      "execution_count": 13,
      "outputs": []
    },
    {
      "cell_type": "code",
      "source": [
        "# Split data\n",
        "X_train = X[train_start: train_end]\n",
        "y_train = y[train_start: train_end]\n",
        "X_val = X[val_start: val_end]\n",
        "y_val = y[val_start: val_end]\n",
        "X_test = X[test_start:]\n",
        "y_test = y[test_start:]\n",
        "print (f\"X_train: {X_train.shape}, y_train: {y_train.shape}\")\n",
        "print (f\"X_val: {X_val.shape}, y_test: {y_val.shape}\")\n",
        "print (f\"X_test: {X_test.shape}, y_test: {y_test.shape}\")"
      ],
      "metadata": {
        "colab": {
          "base_uri": "https://localhost:8080/"
        },
        "id": "PjthYU5U1jeC",
        "outputId": "42678e77-4ea9-44eb-988e-32c5f003e29b"
      },
      "execution_count": 14,
      "outputs": [
        {
          "output_type": "stream",
          "name": "stdout",
          "text": [
            "X_train: (35, 1), y_train: (35, 1)\n",
            "X_val: (7, 1), y_test: (7, 1)\n",
            "X_test: (8, 1), y_test: (8, 1)\n"
          ]
        }
      ]
    },
    {
      "cell_type": "markdown",
      "source": [
        "####Standardize Data"
      ],
      "metadata": {
        "id": "W_yz_CJb2IB5"
      }
    },
    {
      "cell_type": "markdown",
      "source": [
        "*** We want to standardize our data (`zero mean` and `unit variance`) so a specific feature's magnitude doesn't affect how the model learns its `weights`. ***"
      ],
      "metadata": {
        "id": "F_VG36f_4Laj"
      }
    },
    {
      "cell_type": "markdown",
      "source": [
        "basically we dont want a specific feature to dominate our models decision"
      ],
      "metadata": {
        "id": "BMtvPWwg4YlF"
      }
    },
    {
      "cell_type": "markdown",
      "source": [
        "formula :`(inputs - mean of inputs) / standard deviation of inputs`"
      ],
      "metadata": {
        "id": "Of7kRhvU4iCK"
      }
    },
    {
      "cell_type": "code",
      "source": [
        "# create a standardize function\n",
        "\n",
        "def standardize_data(data, mean, std):\n",
        "  return (data - mean)/std"
      ],
      "metadata": {
        "id": "065nXbi_4xT1"
      },
      "execution_count": 15,
      "outputs": []
    },
    {
      "cell_type": "code",
      "source": [
        "# Determine the means and std\n",
        "X_mean = np.mean(X_train)\n",
        "X_std = np.std(X_train)\n",
        "y_mean = np.mean(y_train)\n",
        "y_std = np.std(y_train)"
      ],
      "metadata": {
        "id": "0DKpnzmM5Eyh"
      },
      "execution_count": 16,
      "outputs": []
    },
    {
      "cell_type": "markdown",
      "source": [
        "We need to treat the validation and test sets as if they were hidden datasets. So we only use the train set to determine the mean and std to avoid biasing our training process."
      ],
      "metadata": {
        "id": "eqRuL5z-5i-4"
      }
    },
    {
      "cell_type": "code",
      "source": [
        "# standardize\n",
        "X_train = standardize_data(X_train, X_mean, X_std)\n",
        "y_train = standardize_data(y_train, y_mean, y_std)\n",
        "X_val = standardize_data(X_val, X_mean, X_std)\n",
        "y_val = standardize_data(y_val, y_mean, y_std)\n",
        "X_test = standardize_data(X_test, X_mean, X_std)\n",
        "y_test = standardize_data(y_test, y_mean, y_std)\n"
      ],
      "metadata": {
        "id": "hHvIHLS75j5p"
      },
      "execution_count": 17,
      "outputs": []
    },
    {
      "cell_type": "code",
      "source": [
        "# Check (means should be ~0 and std should be ~1)\n",
        "# Check (means should be ~0 and std should be ~1)\n",
        "print (f\"mean: {np.mean(X_test, axis=0)[0]:.1f}, std: {np.std(X_test, axis=0)[0]:.1f}\")\n",
        "print (f\"mean: {np.mean(y_test, axis=0)[0]:.1f}, std: {np.std(y_test, axis=0)[0]:.1f}\")"
      ],
      "metadata": {
        "colab": {
          "base_uri": "https://localhost:8080/"
        },
        "id": "Q8JyOeK38aE3",
        "outputId": "5d669f75-aae6-447e-ed74-123cde8d2d46"
      },
      "execution_count": 18,
      "outputs": [
        {
          "output_type": "stream",
          "name": "stdout",
          "text": [
            "mean: -0.6, std: 0.9\n",
            "mean: -0.6, std: 0.9\n"
          ]
        }
      ]
    },
    {
      "cell_type": "markdown",
      "source": [
        "##### WEIGHTS"
      ],
      "metadata": {
        "id": "Bjuoa2B3uIgs"
      }
    },
    {
      "cell_type": "code",
      "source": [
        "INPUT_DIM = X_train.shape[1] # X is 1-dimensional\n",
        "OUTPUT_DIM = y_train.shape[1] # y is 1-dimensional"
      ],
      "metadata": {
        "id": "7ehFtEme8gjv"
      },
      "execution_count": 19,
      "outputs": []
    },
    {
      "cell_type": "code",
      "source": [
        "W = 0.01 * np.random.randn(INPUT_DIM, OUTPUT_DIM)\n",
        "b = np.zeros((1,1))\n",
        "print (f\"W: {W.shape}\")\n",
        "print (f\"b: {b.shape}\")"
      ],
      "metadata": {
        "colab": {
          "base_uri": "https://localhost:8080/"
        },
        "id": "HU49rX54_BDz",
        "outputId": "aa95c39a-6bc5-4632-bf23-3ccf3fa87f1e"
      },
      "execution_count": 20,
      "outputs": [
        {
          "output_type": "stream",
          "name": "stdout",
          "text": [
            "W: (1, 1)\n",
            "b: (1, 1)\n"
          ]
        }
      ]
    },
    {
      "cell_type": "markdown",
      "source": [
        "##### Model"
      ],
      "metadata": {
        "id": "uwtLaNXf_akc"
      }
    },
    {
      "cell_type": "code",
      "source": [
        "#Feed inputs into the model to receive the predictions\n",
        "# Forward pass [NX1] · [1X1] = [NX1]\n",
        "\n",
        "y_pred = np.dot(X_train, W) + b\n",
        "print (f\"y_pred: {y_pred.shape}\")"
      ],
      "metadata": {
        "colab": {
          "base_uri": "https://localhost:8080/"
        },
        "id": "DZb5oKsIx3z_",
        "outputId": "90510249-a4a8-44fe-9b04-9620acea214a"
      },
      "execution_count": 21,
      "outputs": [
        {
          "output_type": "stream",
          "name": "stdout",
          "text": [
            "y_pred: (35, 1)\n"
          ]
        }
      ]
    },
    {
      "cell_type": "markdown",
      "source": [
        "##### LOSS"
      ],
      "metadata": {
        "id": "Vt4rR62uyYL9"
      }
    },
    {
      "cell_type": "markdown",
      "source": [
        "Compare the predictions\n",
        " with the actual target values\n",
        " using the objective (cost) function to determine the loss\n",
        ". A common objective function for linear regression is mean squared error (MSE). This function calculates the difference between the predicted and target values and squares it.\n",
        "N = `len(y_train)`\n",
        "MSE formula = `1(np.sum((y_train - y_pred)**2)/N`\n"
      ],
      "metadata": {
        "id": "bI-9mszX0fur"
      }
    },
    {
      "cell_type": "code",
      "source": [
        "# loss\n",
        "N = len(y_train)\n",
        "loss = (1/N) * np.sum((y_train - y_pred)**2)\n",
        "print(f\"loss: {loss:.2f}\")"
      ],
      "metadata": {
        "colab": {
          "base_uri": "https://localhost:8080/"
        },
        "id": "nHieQXEg0juC",
        "outputId": "95057c1b-38ec-4036-b079-9d710cedf6c2"
      },
      "execution_count": 22,
      "outputs": [
        {
          "output_type": "stream",
          "name": "stdout",
          "text": [
            "loss: 0.99\n"
          ]
        }
      ]
    },
    {
      "cell_type": "markdown",
      "source": [
        "##### Gradients"
      ],
      "metadata": {
        "id": "MHMEA5JNnT7k"
      }
    },
    {
      "cell_type": "code",
      "source": [
        "# back propagation\n",
        "# we would use this later to adjust the weights accordingly\n",
        "dW = -(2/N) * np.sum((y_train - y_pred) * X_train)\n",
        "db = -(2/N) * np.sum((y_train - y_pred) * 1)"
      ],
      "metadata": {
        "id": "1ruC3iPsnaeK"
      },
      "execution_count": 23,
      "outputs": []
    },
    {
      "cell_type": "markdown",
      "source": [
        "##### Update Weights"
      ],
      "metadata": {
        "id": "PFjG3zMUsh7m"
      }
    },
    {
      "cell_type": "code",
      "source": [
        "LEARNING_RATE = 1e-1"
      ],
      "metadata": {
        "id": "HRpjqRejsk3r"
      },
      "execution_count": 24,
      "outputs": []
    },
    {
      "cell_type": "code",
      "source": [
        "# update the weights\n",
        "W += -LEARNING_RATE * dW\n",
        "b += -LEARNING_RATE * db"
      ],
      "metadata": {
        "id": "iopWxrNRs0md"
      },
      "execution_count": 25,
      "outputs": []
    },
    {
      "cell_type": "markdown",
      "source": [
        "##### Training"
      ],
      "metadata": {
        "id": "oPdiJJ1JtbIk"
      }
    },
    {
      "cell_type": "markdown",
      "source": [
        "repeat steps from \"Model\" to \"Update Weights\""
      ],
      "metadata": {
        "id": "1MrGg_N8teCX"
      }
    },
    {
      "cell_type": "code",
      "source": [
        "NUM_EPOCHS = 100"
      ],
      "metadata": {
        "id": "0XQCY_JEtmMP"
      },
      "execution_count": 26,
      "outputs": []
    },
    {
      "cell_type": "code",
      "source": [
        "# initialize random Weights\n",
        "W = 0.01 * np.random.randn(INPUT_DIM, OUTPUT_DIM)\n",
        "b = np.zeros((1,1))\n",
        "\n",
        "for epoch in range(NUM_EPOCHS):\n",
        "  # forward pass\n",
        "  y_pred = np.dot(X_train, W) + b\n",
        "\n",
        "  #calculate loss\n",
        "  N = len(y_train)\n",
        "  loss = (1/N) * (np.sum((y_train - y_pred)**2))\n",
        "\n",
        "  # print out loss\n",
        "  if(epoch % 10 == 0):\n",
        "    print(f\"epoch: {epoch}, loss: {loss:.3f}\")\n",
        "\n",
        "  # back propagation\n",
        "  dW = -(2/N) * np.sum((y_train - y_pred) * X_train)\n",
        "  db = -(2/N) * np.sum((y_train - y_pred) * 1)\n",
        "\n",
        "  ## Update the weights\n",
        "  W += -LEARNING_RATE * dW\n",
        "  b += -LEARNING_RATE * db\n"
      ],
      "metadata": {
        "colab": {
          "base_uri": "https://localhost:8080/"
        },
        "id": "v_2auY71tyIb",
        "outputId": "e786b45d-2250-429c-e96c-2bf40e4dd7dd"
      },
      "execution_count": 27,
      "outputs": [
        {
          "output_type": "stream",
          "name": "stdout",
          "text": [
            "epoch: 0, loss: 0.990\n",
            "epoch: 10, loss: 0.039\n",
            "epoch: 20, loss: 0.028\n",
            "epoch: 30, loss: 0.028\n",
            "epoch: 40, loss: 0.028\n",
            "epoch: 50, loss: 0.028\n",
            "epoch: 60, loss: 0.028\n",
            "epoch: 70, loss: 0.028\n",
            "epoch: 80, loss: 0.028\n",
            "epoch: 90, loss: 0.028\n"
          ]
        }
      ]
    },
    {
      "cell_type": "markdown",
      "source": [
        "##### Evaluation"
      ],
      "metadata": {
        "id": "CVFMU0QQyGIx"
      }
    },
    {
      "cell_type": "code",
      "source": [
        "# predictions\n",
        "pred_train = W*X_train +b\n",
        "pred_test = W*X_test + b"
      ],
      "metadata": {
        "id": "5NC2ofrC2wlb"
      },
      "execution_count": 28,
      "outputs": []
    },
    {
      "cell_type": "code",
      "source": [
        "#Train and test MSE\n",
        "\n",
        "train_mse = np.mean((y_train - pred_train) ** 2)\n",
        "test_mse = np.mean((y_test - pred_test)**2)\n",
        "print (f\"train_MSE: {train_mse:.2f}, test_MSE: {test_mse:.2f}\")"
      ],
      "metadata": {
        "colab": {
          "base_uri": "https://localhost:8080/"
        },
        "id": "dIx6MlKwGlUS",
        "outputId": "d310b7ea-f0e4-4dfc-a269-efa91c3b9853"
      },
      "execution_count": 29,
      "outputs": [
        {
          "output_type": "stream",
          "name": "stdout",
          "text": [
            "train_MSE: 0.03, test_MSE: 0.01\n"
          ]
        }
      ]
    },
    {
      "cell_type": "code",
      "source": [
        "# figure size\n",
        "plt.figure(figsize=(15, 5))\n",
        "\n",
        "# plot training data\n",
        "plt.subplot(1, 2, 1)\n",
        "plt.scatter(X_train, y_train, label=\"y_train\")\n",
        "plt.plot(X_train, pred_train, color=\"red\", linestyle=\"-\", label=\"model\")\n",
        "plt.legend(loc=\"lower right\")\n",
        "\n",
        "#plot testing data\n",
        "plt.subplot(1,2,2)\n",
        "plt.scatter(X_test, y_test, label=\"y_test\")\n",
        "plt.plot(X_test, pred_test, color=\"red\", linewidth=1, linestyle=\"-\", label=\"model\")\n",
        "plt.legend(loc=\"lower right\")\n",
        "\n",
        "\n",
        "#Show plots\n",
        "plt.show()\n"
      ],
      "metadata": {
        "colab": {
          "base_uri": "https://localhost:8080/",
          "height": 445
        },
        "id": "uffR8LZaHCBk",
        "outputId": "bec9fd87-a0eb-48c4-b614-e5767866ee26"
      },
      "execution_count": 33,
      "outputs": [
        {
          "output_type": "display_data",
          "data": {
            "text/plain": [
              "<Figure size 1500x500 with 2 Axes>"
            ],
            "image/png": "[encoded data removed]"
          },
          "metadata": {}
        }
      ]
    },
    {
      "cell_type": "code",
      "source": [],
      "metadata": {
        "id": "f3-xzJTYKZeO"
      },
      "execution_count": null,
      "outputs": []
    }
  ]
}